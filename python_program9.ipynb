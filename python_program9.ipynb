{
 "cells": [
  {
   "cell_type": "code",
   "execution_count": null,
   "id": "165b3384",
   "metadata": {},
   "outputs": [],
   "source": [
    "1. Write a Python program to check if the given number is a Disarium Number?"
   ]
  },
  {
   "cell_type": "code",
   "execution_count": 12,
   "id": "c75ad770",
   "metadata": {},
   "outputs": [
    {
     "name": "stdout",
     "output_type": "stream",
     "text": [
      "Enter a number: 6\n",
      "6 is a Disarium number\n"
     ]
    }
   ],
   "source": [
    "\n",
    "#Disarium number:\n",
    "#A number is called a disarium number if the sum of the digits raised to the power of their positions is equal\n",
    "#to the number itself.\n",
    "\n",
    "\n",
    "def find_sum(no, l):\n",
    "    sum = 0\n",
    "    while no > 0:\n",
    "        last_digit = no % 10\n",
    "        sum = sum + int(last_digit ** l)\n",
    "        l = l - 1\n",
    "        no = int(no/10)\n",
    "    return sum\n",
    "\n",
    "given_num = int(input('Enter a number: '))\n",
    "\n",
    "if given_num == find_sum(given_num, len(str(given_num))):\n",
    "    print(f'{given_num} is a Disarium number')\n",
    "else:\n",
    "    print(f'{given_num} is not a Disarium number')"
   ]
  },
  {
   "cell_type": "code",
   "execution_count": null,
   "id": "cadc040a",
   "metadata": {},
   "outputs": [],
   "source": [
    "2. Write a Python program to print all disarium numbers between 1 to 100?"
   ]
  },
  {
   "cell_type": "code",
   "execution_count": 31,
   "id": "b5d7755c",
   "metadata": {},
   "outputs": [
    {
     "name": "stdout",
     "output_type": "stream",
     "text": [
      "The disarium numbers between 1 and 100 are : \n",
      "1\n",
      "2\n",
      "3\n",
      "4\n",
      "5\n",
      "6\n",
      "7\n",
      "8\n",
      "9\n",
      "89\n"
     ]
    }
   ],
   "source": [
    "def length_calculation(my_val):\n",
    "   len_val = 0\n",
    "   while(my_val != 0):\n",
    "      len_val = len_val + 1\n",
    "      my_val = my_val//10\n",
    "   return len_val\n",
    "def digit_sum(my_num):\n",
    "   remaining = sum_val = 0\n",
    "   len_fun = length_calculation(my_num)\n",
    "   while(my_num > 0):\n",
    "      remaining = my_num%10\n",
    "      sum_val = sum_val + (remaining**len_fun)\n",
    "      my_num = my_num//10\n",
    "      len_fun = len_fun - 1\n",
    "   return sum_val\n",
    "ini_result = 0\n",
    "print(\"The disarium numbers between 1 and 100 are : \")\n",
    "for i in range(1, 101):\n",
    "    ini_result = digit_sum(i)\n",
    "    if(ini_result == i):\n",
    "        print(i)"
   ]
  },
  {
   "cell_type": "code",
   "execution_count": null,
   "id": "85e905fd",
   "metadata": {},
   "outputs": [],
   "source": [
    "3. Write a Python program to check if the given number is Happy Number?"
   ]
  },
  {
   "cell_type": "code",
   "execution_count": 5,
   "id": "86e32aba",
   "metadata": {},
   "outputs": [
    {
     "name": "stdout",
     "output_type": "stream",
     "text": [
      "Enter a number: 44\n",
      "44  is a Happy Number!!!\n"
     ]
    }
   ],
   "source": [
    "def isHappyNumber(n):    \n",
    "    digit = sum = 0    \n",
    "    while(n > 0):    \n",
    "        digit = n % 10 \n",
    "        sum = sum + (digit * digit)    \n",
    "        n = n // 10   \n",
    "    return sum    \n",
    "        \n",
    "num = int(input(\"Enter a number: \"))    \n",
    "result = num    \n",
    "     \n",
    "while(result != 1 and result != 4):    \n",
    "    result = isHappyNumber(result)   \n",
    "     \n",
    "if(result == 1):    \n",
    "    print(num, \" is a Happy Number!!!\")   \n",
    "else:    \n",
    "    print(num, \" is an Unhappy Number!!!\")\n",
    "    "
   ]
  },
  {
   "cell_type": "code",
   "execution_count": null,
   "id": "f2182a2a",
   "metadata": {},
   "outputs": [],
   "source": [
    "4. Write a Python program to print all happy numbers between 1 and 100?"
   ]
  },
  {
   "cell_type": "code",
   "execution_count": 6,
   "id": "8cd1b0a3",
   "metadata": {},
   "outputs": [
    {
     "name": "stdout",
     "output_type": "stream",
     "text": [
      "List of happy numbers between 1 and 100: \n",
      "1\n",
      " \n",
      "7\n",
      " \n",
      "10\n",
      " \n",
      "13\n",
      " \n",
      "19\n",
      " \n",
      "23\n",
      " \n",
      "28\n",
      " \n",
      "31\n",
      " \n",
      "32\n",
      " \n",
      "44\n",
      " \n",
      "49\n",
      " \n",
      "68\n",
      " \n",
      "70\n",
      " \n",
      "79\n",
      " \n",
      "82\n",
      " \n",
      "86\n",
      " \n",
      "91\n",
      " \n",
      "94\n",
      " \n",
      "97\n",
      " \n",
      "100\n",
      " \n"
     ]
    }
   ],
   "source": [
    "def isHappyNumber(num):  \n",
    "    rem = sum = 0;  \n",
    "      \n",
    "    #Calculates the sum of squares of digits  \n",
    "    while(num > 0):  \n",
    "        rem = num%10;  \n",
    "        sum = sum + (rem*rem);  \n",
    "        num = num//10;  \n",
    "    return sum;  \n",
    "          \n",
    "#Displays all happy numbers between 1 and 100  \n",
    "print(\"List of happy numbers between 1 and 100: \");  \n",
    "for i in range(1, 101):  \n",
    "    result = i;  \n",
    "      \n",
    "     \n",
    "    while(result != 1 and result != 4):  \n",
    "        result = isHappyNumber(result);  \n",
    "      \n",
    "    if(result == 1):  \n",
    "        print(i),  \n",
    "        print(\" \"),  "
   ]
  },
  {
   "cell_type": "code",
   "execution_count": null,
   "id": "9f0d4e74",
   "metadata": {},
   "outputs": [],
   "source": [
    "5. Write a Python program to determine whether the given number is a Harshad Number?"
   ]
  },
  {
   "cell_type": "code",
   "execution_count": 5,
   "id": "7d55d7bc",
   "metadata": {},
   "outputs": [
    {
     "name": "stdout",
     "output_type": "stream",
     "text": [
      "Enter number: 90\n",
      "90 is Harshad Number\n"
     ]
    }
   ],
   "source": [
    "number = int(input('Enter number: '))\n",
    "\n",
    "# Making copy of number for later use\n",
    "copy = number\n",
    "\n",
    "# Finding sum of digit\n",
    "digit_sum = 0\n",
    "\n",
    "while number:\n",
    "    digit_sum += number%10\n",
    "    number //= 10\n",
    "\n",
    "# Checking divisibility & making decision\n",
    "if copy%digit_sum == 0:\n",
    "    print('%d is Harshad Number' % (copy))\n",
    "else:\n",
    "    print('%d is Not Harshad Number' % (copy))"
   ]
  },
  {
   "cell_type": "code",
   "execution_count": null,
   "id": "0495049b",
   "metadata": {},
   "outputs": [],
   "source": [
    "6. Write a Python program to print all pronic numbers between 1 and 100?"
   ]
  },
  {
   "cell_type": "code",
   "execution_count": 6,
   "id": "19417cfe",
   "metadata": {},
   "outputs": [
    {
     "name": "stdout",
     "output_type": "stream",
     "text": [
      "Pronic numbers between 1 and 100: \n",
      "2\n",
      " \n",
      "6\n",
      " \n",
      "12\n",
      " \n",
      "20\n",
      " \n",
      "30\n",
      " \n",
      "42\n",
      " \n",
      "56\n",
      " \n",
      "72\n",
      " \n",
      "90\n",
      " \n"
     ]
    }
   ],
   "source": [
    "def isPronicNumber(num):  \n",
    "    flag = False;  \n",
    "      \n",
    "    for j in range(1, num+1):  \n",
    "        \n",
    "        if((j*(j+1)) == num):  \n",
    "            flag = True;  \n",
    "            break;  \n",
    "    return flag;  \n",
    "   \n",
    "#Displays pronic numbers between 1 and 100  \n",
    "print(\"Pronic numbers between 1 and 100: \");  \n",
    "for i in range(1, 101):  \n",
    "    if(isPronicNumber(i)):  \n",
    "        print(i),  \n",
    "        print(\" \"),  "
   ]
  },
  {
   "cell_type": "code",
   "execution_count": null,
   "id": "8a908bf0",
   "metadata": {},
   "outputs": [],
   "source": []
  }
 ],
 "metadata": {
  "kernelspec": {
   "display_name": "Python 3 (ipykernel)",
   "language": "python",
   "name": "python3"
  },
  "language_info": {
   "codemirror_mode": {
    "name": "ipython",
    "version": 3
   },
   "file_extension": ".py",
   "mimetype": "text/x-python",
   "name": "python",
   "nbconvert_exporter": "python",
   "pygments_lexer": "ipython3",
   "version": "3.9.7"
  }
 },
 "nbformat": 4,
 "nbformat_minor": 5
}
